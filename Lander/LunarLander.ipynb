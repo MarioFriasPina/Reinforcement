{
 "cells": [
  {
   "cell_type": "markdown",
   "metadata": {},
   "source": [
    "### Create a Neural Network with pytorch for RL"
   ]
  },
  {
   "cell_type": "code",
   "execution_count": 4,
   "metadata": {},
   "outputs": [],
   "source": [
    "def choose_action(observation, action_space, epsilon, explotation=False):\n",
    "    global steps_done\n",
    "    sample = random.random()\n",
    "    \n",
    "    steps_done += 1\n",
    "\n",
    "    if explotation:\n",
    "        with torch.no_grad():\n",
    "            return policy_net(observation).max(1)[1].view(1, 1)\n",
    "    elif sample > epsilon:\n",
    "        with torch.no_grad():\n",
    "            return policy_net(observation).max(1)[1].view(1, 1)\n",
    "    else:\n",
    "        return torch.tensor([[action_space.sample()]], device=device, dtype=torch.long)\n",
    "\n",
    "def learn():\n",
    "    \"\"\"\n",
    "    Function that performs a learning step using DQN\n",
    "    \"\"\"\n",
    "    if len(memory) < batch_size:\n",
    "        return\n",
    "\n",
    "    transitions = memory.sample(batch_size)\n",
    "    batch = Transition(*zip(*transitions))\n",
    "\n",
    "    non_final_mask = torch.tensor(tuple(map(lambda s: s is not None, batch.next_state)), device=device, dtype=torch.bool)\n",
    "    non_final_next_states = torch.cat([s for s in batch.next_state if s is not None])\n",
    "\n",
    "    state_batch = torch.cat(batch.state)\n",
    "    action_batch = torch.cat(batch.action)\n",
    "    reward_batch = torch.cat(batch.reward)    \n",
    "\n",
    "    state_action_values = policy_net(state_batch).gather(1, action_batch)\n",
    "\n",
    "    next_state_values = torch.zeros(batch_size, device=device)\n",
    "    with torch.no_grad():\n",
    "        next_state_values[non_final_mask] = target_net(non_final_next_states).max(1).values\n",
    "\n",
    "    expected_state_action_values = (next_state_values * gamma) + reward_batch\n",
    "\n",
    "    loss = F.smooth_l1_loss(state_action_values, expected_state_action_values.unsqueeze(1))\n",
    "\n",
    "    optimizer.zero_grad()\n",
    "    loss.backward()\n",
    "    torch.nn.utils.clip_grad_value_(policy_net.parameters(), 200)\n",
    "    optimizer.step()\n"
   ]
  },
  {
   "cell_type": "code",
   "execution_count": null,
   "metadata": {},
   "outputs": [],
   "source": [
    "env_human = gym.make(\"LunarLander-v3\", render_mode=\"human\")\n",
    "\n",
    "for episode in range(10):\n",
    "    state, info = env_human.reset()\n",
    "    frame = torch.tensor(state, dtype=torch.float32, device=device).unsqueeze(0)\n",
    "\n",
    "    episode_over = False\n",
    "    while not episode_over:\n",
    "        action = choose_action(frame, env.action_space, epsilon, explotation=True)\n",
    "        observation, reward, terminated, truncated, info = env_human.step(action.item())\n",
    "\n",
    "        frame = torch.tensor(observation, dtype=torch.float32, device=device).unsqueeze(0)\n",
    "        if terminated or truncated:\n",
    "            episode_over = True\n",
    "\n",
    "env_human.close()"
   ]
  }
 ],
 "metadata": {
  "kernelspec": {
   "display_name": "gym_env",
   "language": "python",
   "name": "python3"
  },
  "language_info": {
   "codemirror_mode": {
    "name": "ipython",
    "version": 3
   },
   "file_extension": ".py",
   "mimetype": "text/x-python",
   "name": "python",
   "nbconvert_exporter": "python",
   "pygments_lexer": "ipython3",
   "version": "3.12.7"
  }
 },
 "nbformat": 4,
 "nbformat_minor": 2
}
