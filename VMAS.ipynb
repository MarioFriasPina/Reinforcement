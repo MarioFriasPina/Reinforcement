{
 "cells": [
  {
   "cell_type": "code",
   "execution_count": null,
   "metadata": {},
   "outputs": [
    {
     "name": "stdout",
     "output_type": "stream",
     "text": [
      "^C\n"
     ]
    }
   ],
   "source": [
    "!pip install vmas\n",
    "!pip install vmas[all]"
   ]
  },
  {
   "cell_type": "code",
   "execution_count": null,
   "metadata": {},
   "outputs": [
    {
     "ename": "KeyboardInterrupt",
     "evalue": "",
     "output_type": "error",
     "traceback": [
      "\u001b[1;31m---------------------------------------------------------------------------\u001b[0m",
      "\u001b[1;31mKeyboardInterrupt\u001b[0m                         Traceback (most recent call last)",
      "Cell \u001b[1;32mIn[1], line 27\u001b[0m\n\u001b[0;32m     24\u001b[0m     action \u001b[38;5;241m=\u001b[39m env\u001b[38;5;241m.\u001b[39mget_random_action(agent)\n\u001b[0;32m     25\u001b[0m     actions\u001b[38;5;241m.\u001b[39mupdate({agent\u001b[38;5;241m.\u001b[39mname: action}) \u001b[38;5;28;01mif\u001b[39;00m dict_actions \u001b[38;5;28;01melse\u001b[39;00m actions\u001b[38;5;241m.\u001b[39mappend(action)\n\u001b[1;32m---> 27\u001b[0m obs, rew, dones, info \u001b[38;5;241m=\u001b[39m env\u001b[38;5;241m.\u001b[39mstep(actions)\n\u001b[0;32m     29\u001b[0m frame \u001b[38;5;241m=\u001b[39m env\u001b[38;5;241m.\u001b[39mrender(\n\u001b[0;32m     30\u001b[0m             mode\u001b[38;5;241m=\u001b[39m\u001b[38;5;124m\"\u001b[39m\u001b[38;5;124mrgb_array\u001b[39m\u001b[38;5;124m\"\u001b[39m,\n\u001b[0;32m     31\u001b[0m             agent_index_focus\u001b[38;5;241m=\u001b[39m\u001b[38;5;28;01mNone\u001b[39;00m,  \u001b[38;5;66;03m# Can give the camera an agent index to focus on\u001b[39;00m\n\u001b[0;32m     32\u001b[0m             visualize_when_rgb\u001b[38;5;241m=\u001b[39m\u001b[38;5;28;01mTrue\u001b[39;00m,\n\u001b[0;32m     33\u001b[0m         )\n",
      "File \u001b[1;32mc:\\Users\\ilhui\\anaconda3\\envs\\reto\\Lib\\site-packages\\vmas\\simulator\\environment\\environment.py:267\u001b[0m, in \u001b[0;36mEnvironment.step\u001b[1;34m(self, actions)\u001b[0m\n\u001b[0;32m    265\u001b[0m \u001b[38;5;66;03m# advance world state\u001b[39;00m\n\u001b[0;32m    266\u001b[0m \u001b[38;5;28mself\u001b[39m\u001b[38;5;241m.\u001b[39mscenario\u001b[38;5;241m.\u001b[39mpre_step()\n\u001b[1;32m--> 267\u001b[0m \u001b[38;5;28mself\u001b[39m\u001b[38;5;241m.\u001b[39mworld\u001b[38;5;241m.\u001b[39mstep()\n\u001b[0;32m    268\u001b[0m \u001b[38;5;28mself\u001b[39m\u001b[38;5;241m.\u001b[39mscenario\u001b[38;5;241m.\u001b[39mpost_step()\n\u001b[0;32m    270\u001b[0m \u001b[38;5;28mself\u001b[39m\u001b[38;5;241m.\u001b[39msteps \u001b[38;5;241m+\u001b[39m\u001b[38;5;241m=\u001b[39m \u001b[38;5;241m1\u001b[39m\n",
      "File \u001b[1;32mc:\\Users\\ilhui\\anaconda3\\envs\\reto\\Lib\\site-packages\\vmas\\simulator\\core.py:2005\u001b[0m, in \u001b[0;36mWorld.step\u001b[1;34m(self)\u001b[0m\n\u001b[0;32m   2002\u001b[0m     \u001b[38;5;66;03m# apply gravity\u001b[39;00m\n\u001b[0;32m   2003\u001b[0m     \u001b[38;5;28mself\u001b[39m\u001b[38;5;241m.\u001b[39m_apply_gravity(entity)\n\u001b[1;32m-> 2005\u001b[0m \u001b[38;5;28mself\u001b[39m\u001b[38;5;241m.\u001b[39m_apply_vectorized_enviornment_force()\n\u001b[0;32m   2007\u001b[0m \u001b[38;5;28;01mfor\u001b[39;00m entity \u001b[38;5;129;01min\u001b[39;00m \u001b[38;5;28mself\u001b[39m\u001b[38;5;241m.\u001b[39mentities:\n\u001b[0;32m   2008\u001b[0m     \u001b[38;5;66;03m# integrate physical state\u001b[39;00m\n\u001b[0;32m   2009\u001b[0m     \u001b[38;5;28mself\u001b[39m\u001b[38;5;241m.\u001b[39m_integrate_state(entity, substep)\n",
      "File \u001b[1;32mc:\\Users\\ilhui\\anaconda3\\envs\\reto\\Lib\\site-packages\\vmas\\simulator\\core.py:2122\u001b[0m, in \u001b[0;36mWorld._apply_vectorized_enviornment_force\u001b[1;34m(self)\u001b[0m\n\u001b[0;32m   2120\u001b[0m     \u001b[38;5;28;01mif\u001b[39;00m joint\u001b[38;5;241m.\u001b[39mdist \u001b[38;5;241m==\u001b[39m \u001b[38;5;241m0\u001b[39m:\n\u001b[0;32m   2121\u001b[0m         \u001b[38;5;28;01mcontinue\u001b[39;00m\n\u001b[1;32m-> 2122\u001b[0m \u001b[38;5;28;01mif\u001b[39;00m \u001b[38;5;129;01mnot\u001b[39;00m \u001b[38;5;28mself\u001b[39m\u001b[38;5;241m.\u001b[39mcollides(entity_a, entity_b):\n\u001b[0;32m   2123\u001b[0m     \u001b[38;5;28;01mcontinue\u001b[39;00m\n\u001b[0;32m   2124\u001b[0m \u001b[38;5;28;01mif\u001b[39;00m \u001b[38;5;28misinstance\u001b[39m(entity_a\u001b[38;5;241m.\u001b[39mshape, Sphere) \u001b[38;5;129;01mand\u001b[39;00m \u001b[38;5;28misinstance\u001b[39m(\n\u001b[0;32m   2125\u001b[0m     entity_b\u001b[38;5;241m.\u001b[39mshape, Sphere\n\u001b[0;32m   2126\u001b[0m ):\n",
      "File \u001b[1;32mc:\\Users\\ilhui\\anaconda3\\envs\\reto\\Lib\\site-packages\\vmas\\simulator\\core.py:2799\u001b[0m, in \u001b[0;36mWorld.collides\u001b[1;34m(self, a, b)\u001b[0m\n\u001b[0;32m   2794\u001b[0m \u001b[38;5;28;01mif\u001b[39;00m \u001b[38;5;129;01mnot\u001b[39;00m {a_shape\u001b[38;5;241m.\u001b[39m\u001b[38;5;18m__class__\u001b[39m, b_shape\u001b[38;5;241m.\u001b[39m\u001b[38;5;18m__class__\u001b[39m} \u001b[38;5;129;01min\u001b[39;00m \u001b[38;5;28mself\u001b[39m\u001b[38;5;241m.\u001b[39m_collidable_pairs:\n\u001b[0;32m   2795\u001b[0m     \u001b[38;5;28;01mreturn\u001b[39;00m \u001b[38;5;28;01mFalse\u001b[39;00m\n\u001b[0;32m   2796\u001b[0m \u001b[38;5;28;01mif\u001b[39;00m \u001b[38;5;129;01mnot\u001b[39;00m (\n\u001b[0;32m   2797\u001b[0m     torch\u001b[38;5;241m.\u001b[39mlinalg\u001b[38;5;241m.\u001b[39mvector_norm(a\u001b[38;5;241m.\u001b[39mstate\u001b[38;5;241m.\u001b[39mpos \u001b[38;5;241m-\u001b[39m b\u001b[38;5;241m.\u001b[39mstate\u001b[38;5;241m.\u001b[39mpos, dim\u001b[38;5;241m=\u001b[39m\u001b[38;5;241m-\u001b[39m\u001b[38;5;241m1\u001b[39m)\n\u001b[0;32m   2798\u001b[0m     \u001b[38;5;241m<\u001b[39m\u001b[38;5;241m=\u001b[39m a\u001b[38;5;241m.\u001b[39mshape\u001b[38;5;241m.\u001b[39mcircumscribed_radius() \u001b[38;5;241m+\u001b[39m b\u001b[38;5;241m.\u001b[39mshape\u001b[38;5;241m.\u001b[39mcircumscribed_radius()\n\u001b[1;32m-> 2799\u001b[0m )\u001b[38;5;241m.\u001b[39many():\n\u001b[0;32m   2800\u001b[0m     \u001b[38;5;28;01mreturn\u001b[39;00m \u001b[38;5;28;01mFalse\u001b[39;00m\n\u001b[0;32m   2802\u001b[0m \u001b[38;5;28;01mreturn\u001b[39;00m \u001b[38;5;28;01mTrue\u001b[39;00m\n",
      "\u001b[1;31mKeyboardInterrupt\u001b[0m: "
     ]
    },
    {
     "ename": "",
     "evalue": "",
     "output_type": "error",
     "traceback": [
      "\u001b[1;31mThe Kernel crashed while executing code in the current cell or a previous cell. \n",
      "\u001b[1;31mPlease review the code in the cell(s) to identify a possible cause of the failure. \n",
      "\u001b[1;31mClick <a href='https://aka.ms/vscodeJupyterKernelCrash'>here</a> for more info. \n",
      "\u001b[1;31mView Jupyter <a href='command:jupyter.viewOutput'>log</a> for further details."
     ]
    }
   ],
   "source": [
    "import vmas\n",
    "import random\n",
    "\n",
    "env = vmas.make_env(\n",
    "        scenario=\"waterfall\", # can be scenario name or BaseScenario class\n",
    "        num_envs=1,\n",
    "        device=\"cuda\", # Or \"cuda\" for GPU\n",
    "        continuous_actions=True,\n",
    "        wrapper=None,  # One of: None, \"rllib\", \"gym\", \"gymnasium\", \"gymnasium_vec\"\n",
    "        max_steps=None, # Defines the horizon. None is infinite horizon.\n",
    "        seed=None, # Seed of the environment\n",
    "        dict_spaces=False, # By default tuple spaces are used with each element in the tuple being an agent.\n",
    "        # If dict_spaces=True, the spaces will become Dict with each key being the agent's name\n",
    "        grad_enabled=False, # If grad_enabled the simulator is differentiable and gradients can flow from output to input\n",
    "        terminated_truncated=False, # If terminated_truncated the simulator will return separate `terminated` and `truncated` flags in the `done()`, `step()`, and `get_from_scenario()` functions instead of a single `done` flag\n",
    "    )\n",
    "\n",
    "for _ in range(100):\n",
    "    dict_actions = random.choice([True, False])\n",
    "\n",
    "    actions = {} if dict_actions else []\n",
    "\n",
    "    for agent in env.agents:\n",
    "        action = env.get_random_action(agent)\n",
    "        actions.update({agent.name: action}) if dict_actions else actions.append(action)\n",
    "    \n",
    "    obs, rew, dones, info = env.step(actions)\n",
    "\n",
    "    frame = env.render(\n",
    "                mode=\"rgb_array\",\n",
    "                agent_index_focus=None,  # Can give the camera an agent index to focus on\n",
    "                visualize_when_rgb=True,\n",
    "            )"
   ]
  }
 ],
 "metadata": {
  "kernelspec": {
   "display_name": "ReinforcementEnv",
   "language": "python",
   "name": "python3"
  },
  "language_info": {
   "codemirror_mode": {
    "name": "ipython",
    "version": 3
   },
   "file_extension": ".py",
   "mimetype": "text/x-python",
   "name": "python",
   "nbconvert_exporter": "python",
   "pygments_lexer": "ipython3",
   "version": "3.12.7"
  }
 },
 "nbformat": 4,
 "nbformat_minor": 2
}
