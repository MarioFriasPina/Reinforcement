{
 "cells": [
  {
   "cell_type": "code",
   "execution_count": 1,
   "metadata": {},
   "outputs": [
    {
     "name": "stdout",
     "output_type": "stream",
     "text": [
      "Requirement already satisfied: vmas in /home/mfrias/miniconda3/envs/ReinforcementEnv/lib/python3.11/site-packages (1.4.3)\n",
      "Requirement already satisfied: numpy in /home/mfrias/miniconda3/envs/ReinforcementEnv/lib/python3.11/site-packages (from vmas) (2.1.2)\n",
      "Requirement already satisfied: torch in /home/mfrias/miniconda3/envs/ReinforcementEnv/lib/python3.11/site-packages (from vmas) (2.5.1)\n",
      "Requirement already satisfied: pyglet<=1.5.27 in /home/mfrias/miniconda3/envs/ReinforcementEnv/lib/python3.11/site-packages (from vmas) (1.5.27)\n",
      "Requirement already satisfied: gym in /home/mfrias/miniconda3/envs/ReinforcementEnv/lib/python3.11/site-packages (from vmas) (0.26.2)\n",
      "Requirement already satisfied: six in /home/mfrias/miniconda3/envs/ReinforcementEnv/lib/python3.11/site-packages (from vmas) (1.16.0)\n",
      "Requirement already satisfied: cloudpickle>=1.2.0 in /home/mfrias/miniconda3/envs/ReinforcementEnv/lib/python3.11/site-packages (from gym->vmas) (3.1.0)\n",
      "Requirement already satisfied: gym_notices>=0.0.4 in /home/mfrias/miniconda3/envs/ReinforcementEnv/lib/python3.11/site-packages (from gym->vmas) (0.0.8)\n",
      "Requirement already satisfied: filelock in /home/mfrias/miniconda3/envs/ReinforcementEnv/lib/python3.11/site-packages (from torch->vmas) (3.16.1)\n",
      "Requirement already satisfied: typing-extensions>=4.8.0 in /home/mfrias/miniconda3/envs/ReinforcementEnv/lib/python3.11/site-packages (from torch->vmas) (4.12.2)\n",
      "Requirement already satisfied: networkx in /home/mfrias/miniconda3/envs/ReinforcementEnv/lib/python3.11/site-packages (from torch->vmas) (3.4.2)\n",
      "Requirement already satisfied: jinja2 in /home/mfrias/miniconda3/envs/ReinforcementEnv/lib/python3.11/site-packages (from torch->vmas) (3.1.4)\n",
      "Requirement already satisfied: fsspec in /home/mfrias/miniconda3/envs/ReinforcementEnv/lib/python3.11/site-packages (from torch->vmas) (2024.10.0)\n",
      "Requirement already satisfied: nvidia-cuda-nvrtc-cu12==12.4.127 in /home/mfrias/miniconda3/envs/ReinforcementEnv/lib/python3.11/site-packages (from torch->vmas) (12.4.127)\n",
      "Requirement already satisfied: nvidia-cuda-runtime-cu12==12.4.127 in /home/mfrias/miniconda3/envs/ReinforcementEnv/lib/python3.11/site-packages (from torch->vmas) (12.4.127)\n",
      "Requirement already satisfied: nvidia-cuda-cupti-cu12==12.4.127 in /home/mfrias/miniconda3/envs/ReinforcementEnv/lib/python3.11/site-packages (from torch->vmas) (12.4.127)\n",
      "Requirement already satisfied: nvidia-cudnn-cu12==9.1.0.70 in /home/mfrias/miniconda3/envs/ReinforcementEnv/lib/python3.11/site-packages (from torch->vmas) (9.1.0.70)\n",
      "Requirement already satisfied: nvidia-cublas-cu12==12.4.5.8 in /home/mfrias/miniconda3/envs/ReinforcementEnv/lib/python3.11/site-packages (from torch->vmas) (12.4.5.8)\n",
      "Requirement already satisfied: nvidia-cufft-cu12==11.2.1.3 in /home/mfrias/miniconda3/envs/ReinforcementEnv/lib/python3.11/site-packages (from torch->vmas) (11.2.1.3)\n",
      "Requirement already satisfied: nvidia-curand-cu12==10.3.5.147 in /home/mfrias/miniconda3/envs/ReinforcementEnv/lib/python3.11/site-packages (from torch->vmas) (10.3.5.147)\n",
      "Requirement already satisfied: nvidia-cusolver-cu12==11.6.1.9 in /home/mfrias/miniconda3/envs/ReinforcementEnv/lib/python3.11/site-packages (from torch->vmas) (11.6.1.9)\n",
      "Requirement already satisfied: nvidia-cusparse-cu12==12.3.1.170 in /home/mfrias/miniconda3/envs/ReinforcementEnv/lib/python3.11/site-packages (from torch->vmas) (12.3.1.170)\n",
      "Requirement already satisfied: nvidia-nccl-cu12==2.21.5 in /home/mfrias/miniconda3/envs/ReinforcementEnv/lib/python3.11/site-packages (from torch->vmas) (2.21.5)\n",
      "Requirement already satisfied: nvidia-nvtx-cu12==12.4.127 in /home/mfrias/miniconda3/envs/ReinforcementEnv/lib/python3.11/site-packages (from torch->vmas) (12.4.127)\n",
      "Requirement already satisfied: nvidia-nvjitlink-cu12==12.4.127 in /home/mfrias/miniconda3/envs/ReinforcementEnv/lib/python3.11/site-packages (from torch->vmas) (12.4.127)\n",
      "Requirement already satisfied: triton==3.1.0 in /home/mfrias/miniconda3/envs/ReinforcementEnv/lib/python3.11/site-packages (from torch->vmas) (3.1.0)\n",
      "Requirement already satisfied: sympy==1.13.1 in /home/mfrias/miniconda3/envs/ReinforcementEnv/lib/python3.11/site-packages (from torch->vmas) (1.13.1)\n",
      "Requirement already satisfied: mpmath<1.4,>=1.1.0 in /home/mfrias/miniconda3/envs/ReinforcementEnv/lib/python3.11/site-packages (from sympy==1.13.1->torch->vmas) (1.3.0)\n",
      "Requirement already satisfied: MarkupSafe>=2.0 in /home/mfrias/miniconda3/envs/ReinforcementEnv/lib/python3.11/site-packages (from jinja2->torch->vmas) (3.0.2)\n",
      "Requirement already satisfied: vmas[all] in /home/mfrias/miniconda3/envs/ReinforcementEnv/lib/python3.11/site-packages (1.4.3)\n",
      "\u001b[33mWARNING: vmas 1.4.3 does not provide the extra 'all'\u001b[0m\u001b[33m\n",
      "\u001b[0mRequirement already satisfied: numpy in /home/mfrias/miniconda3/envs/ReinforcementEnv/lib/python3.11/site-packages (from vmas[all]) (2.1.2)\n",
      "Requirement already satisfied: torch in /home/mfrias/miniconda3/envs/ReinforcementEnv/lib/python3.11/site-packages (from vmas[all]) (2.5.1)\n",
      "Requirement already satisfied: pyglet<=1.5.27 in /home/mfrias/miniconda3/envs/ReinforcementEnv/lib/python3.11/site-packages (from vmas[all]) (1.5.27)\n",
      "Requirement already satisfied: gym in /home/mfrias/miniconda3/envs/ReinforcementEnv/lib/python3.11/site-packages (from vmas[all]) (0.26.2)\n",
      "Requirement already satisfied: six in /home/mfrias/miniconda3/envs/ReinforcementEnv/lib/python3.11/site-packages (from vmas[all]) (1.16.0)\n",
      "Requirement already satisfied: cloudpickle>=1.2.0 in /home/mfrias/miniconda3/envs/ReinforcementEnv/lib/python3.11/site-packages (from gym->vmas[all]) (3.1.0)\n",
      "Requirement already satisfied: gym_notices>=0.0.4 in /home/mfrias/miniconda3/envs/ReinforcementEnv/lib/python3.11/site-packages (from gym->vmas[all]) (0.0.8)\n",
      "Requirement already satisfied: filelock in /home/mfrias/miniconda3/envs/ReinforcementEnv/lib/python3.11/site-packages (from torch->vmas[all]) (3.16.1)\n",
      "Requirement already satisfied: typing-extensions>=4.8.0 in /home/mfrias/miniconda3/envs/ReinforcementEnv/lib/python3.11/site-packages (from torch->vmas[all]) (4.12.2)\n",
      "Requirement already satisfied: networkx in /home/mfrias/miniconda3/envs/ReinforcementEnv/lib/python3.11/site-packages (from torch->vmas[all]) (3.4.2)\n",
      "Requirement already satisfied: jinja2 in /home/mfrias/miniconda3/envs/ReinforcementEnv/lib/python3.11/site-packages (from torch->vmas[all]) (3.1.4)\n",
      "Requirement already satisfied: fsspec in /home/mfrias/miniconda3/envs/ReinforcementEnv/lib/python3.11/site-packages (from torch->vmas[all]) (2024.10.0)\n",
      "Requirement already satisfied: nvidia-cuda-nvrtc-cu12==12.4.127 in /home/mfrias/miniconda3/envs/ReinforcementEnv/lib/python3.11/site-packages (from torch->vmas[all]) (12.4.127)\n",
      "Requirement already satisfied: nvidia-cuda-runtime-cu12==12.4.127 in /home/mfrias/miniconda3/envs/ReinforcementEnv/lib/python3.11/site-packages (from torch->vmas[all]) (12.4.127)\n",
      "Requirement already satisfied: nvidia-cuda-cupti-cu12==12.4.127 in /home/mfrias/miniconda3/envs/ReinforcementEnv/lib/python3.11/site-packages (from torch->vmas[all]) (12.4.127)\n",
      "Requirement already satisfied: nvidia-cudnn-cu12==9.1.0.70 in /home/mfrias/miniconda3/envs/ReinforcementEnv/lib/python3.11/site-packages (from torch->vmas[all]) (9.1.0.70)\n",
      "Requirement already satisfied: nvidia-cublas-cu12==12.4.5.8 in /home/mfrias/miniconda3/envs/ReinforcementEnv/lib/python3.11/site-packages (from torch->vmas[all]) (12.4.5.8)\n",
      "Requirement already satisfied: nvidia-cufft-cu12==11.2.1.3 in /home/mfrias/miniconda3/envs/ReinforcementEnv/lib/python3.11/site-packages (from torch->vmas[all]) (11.2.1.3)\n",
      "Requirement already satisfied: nvidia-curand-cu12==10.3.5.147 in /home/mfrias/miniconda3/envs/ReinforcementEnv/lib/python3.11/site-packages (from torch->vmas[all]) (10.3.5.147)\n",
      "Requirement already satisfied: nvidia-cusolver-cu12==11.6.1.9 in /home/mfrias/miniconda3/envs/ReinforcementEnv/lib/python3.11/site-packages (from torch->vmas[all]) (11.6.1.9)\n",
      "Requirement already satisfied: nvidia-cusparse-cu12==12.3.1.170 in /home/mfrias/miniconda3/envs/ReinforcementEnv/lib/python3.11/site-packages (from torch->vmas[all]) (12.3.1.170)\n",
      "Requirement already satisfied: nvidia-nccl-cu12==2.21.5 in /home/mfrias/miniconda3/envs/ReinforcementEnv/lib/python3.11/site-packages (from torch->vmas[all]) (2.21.5)\n",
      "Requirement already satisfied: nvidia-nvtx-cu12==12.4.127 in /home/mfrias/miniconda3/envs/ReinforcementEnv/lib/python3.11/site-packages (from torch->vmas[all]) (12.4.127)\n",
      "Requirement already satisfied: nvidia-nvjitlink-cu12==12.4.127 in /home/mfrias/miniconda3/envs/ReinforcementEnv/lib/python3.11/site-packages (from torch->vmas[all]) (12.4.127)\n",
      "Requirement already satisfied: triton==3.1.0 in /home/mfrias/miniconda3/envs/ReinforcementEnv/lib/python3.11/site-packages (from torch->vmas[all]) (3.1.0)\n",
      "Requirement already satisfied: sympy==1.13.1 in /home/mfrias/miniconda3/envs/ReinforcementEnv/lib/python3.11/site-packages (from torch->vmas[all]) (1.13.1)\n",
      "Requirement already satisfied: mpmath<1.4,>=1.1.0 in /home/mfrias/miniconda3/envs/ReinforcementEnv/lib/python3.11/site-packages (from sympy==1.13.1->torch->vmas[all]) (1.3.0)\n",
      "Requirement already satisfied: MarkupSafe>=2.0 in /home/mfrias/miniconda3/envs/ReinforcementEnv/lib/python3.11/site-packages (from jinja2->torch->vmas[all]) (3.0.2)\n"
     ]
    }
   ],
   "source": [
    "!pip install vmas\n",
    "!pip install vmas[all]"
   ]
  },
  {
   "cell_type": "code",
   "execution_count": 2,
   "metadata": {},
   "outputs": [
    {
     "ename": "ArgumentError",
     "evalue": "argument 2: TypeError: wrong type",
     "output_type": "error",
     "traceback": [
      "\u001b[0;31m---------------------------------------------------------------------------\u001b[0m",
      "\u001b[0;31mArgumentError\u001b[0m                             Traceback (most recent call last)",
      "Cell \u001b[0;32mIn[2], line 29\u001b[0m\n\u001b[1;32m     25\u001b[0m     actions\u001b[38;5;241m.\u001b[39mupdate({agent\u001b[38;5;241m.\u001b[39mname: action}) \u001b[38;5;28;01mif\u001b[39;00m dict_actions \u001b[38;5;28;01melse\u001b[39;00m actions\u001b[38;5;241m.\u001b[39mappend(action)\n\u001b[1;32m     27\u001b[0m obs, rew, dones, info \u001b[38;5;241m=\u001b[39m env\u001b[38;5;241m.\u001b[39mstep(actions)\n\u001b[0;32m---> 29\u001b[0m frame \u001b[38;5;241m=\u001b[39m \u001b[43menv\u001b[49m\u001b[38;5;241;43m.\u001b[39;49m\u001b[43mrender\u001b[49m\u001b[43m(\u001b[49m\n\u001b[1;32m     30\u001b[0m \u001b[43m            \u001b[49m\u001b[43mmode\u001b[49m\u001b[38;5;241;43m=\u001b[39;49m\u001b[38;5;124;43m\"\u001b[39;49m\u001b[38;5;124;43mrgb_array\u001b[39;49m\u001b[38;5;124;43m\"\u001b[39;49m\u001b[43m,\u001b[49m\n\u001b[1;32m     31\u001b[0m \u001b[43m            \u001b[49m\u001b[43magent_index_focus\u001b[49m\u001b[38;5;241;43m=\u001b[39;49m\u001b[38;5;28;43;01mNone\u001b[39;49;00m\u001b[43m,\u001b[49m\u001b[43m  \u001b[49m\u001b[38;5;66;43;03m# Can give the camera an agent index to focus on\u001b[39;49;00m\n\u001b[1;32m     32\u001b[0m \u001b[43m            \u001b[49m\u001b[43mvisualize_when_rgb\u001b[49m\u001b[38;5;241;43m=\u001b[39;49m\u001b[38;5;28;43;01mTrue\u001b[39;49;00m\u001b[43m,\u001b[49m\n\u001b[1;32m     33\u001b[0m \u001b[43m        \u001b[49m\u001b[43m)\u001b[49m\n",
      "File \u001b[0;32m~/miniconda3/envs/ReinforcementEnv/lib/python3.11/site-packages/vmas/simulator/environment/environment.py:792\u001b[0m, in \u001b[0;36mEnvironment.render\u001b[0;34m(self, mode, env_index, agent_index_focus, visualize_when_rgb, plot_position_function, plot_position_function_precision, plot_position_function_range, plot_position_function_cmap_range, plot_position_function_cmap_alpha, plot_position_function_cmap_name)\u001b[0m\n\u001b[1;32m    789\u001b[0m     \u001b[38;5;28mself\u001b[39m\u001b[38;5;241m.\u001b[39mviewer\u001b[38;5;241m.\u001b[39madd_onetime_list(entity\u001b[38;5;241m.\u001b[39mrender(env_index\u001b[38;5;241m=\u001b[39menv_index))\n\u001b[1;32m    791\u001b[0m \u001b[38;5;66;03m# render to display or array\u001b[39;00m\n\u001b[0;32m--> 792\u001b[0m \u001b[38;5;28;01mreturn\u001b[39;00m \u001b[38;5;28;43mself\u001b[39;49m\u001b[38;5;241;43m.\u001b[39;49m\u001b[43mviewer\u001b[49m\u001b[38;5;241;43m.\u001b[39;49m\u001b[43mrender\u001b[49m\u001b[43m(\u001b[49m\u001b[43mreturn_rgb_array\u001b[49m\u001b[38;5;241;43m=\u001b[39;49m\u001b[43mmode\u001b[49m\u001b[43m \u001b[49m\u001b[38;5;241;43m==\u001b[39;49m\u001b[43m \u001b[49m\u001b[38;5;124;43m\"\u001b[39;49m\u001b[38;5;124;43mrgb_array\u001b[39;49m\u001b[38;5;124;43m\"\u001b[39;49m\u001b[43m)\u001b[49m\n",
      "File \u001b[0;32m~/miniconda3/envs/ReinforcementEnv/lib/python3.11/site-packages/vmas/simulator/rendering.py:149\u001b[0m, in \u001b[0;36mViewer.render\u001b[0;34m(self, return_rgb_array)\u001b[0m\n\u001b[1;32m    147\u001b[0m \u001b[38;5;28mself\u001b[39m\u001b[38;5;241m.\u001b[39mwindow\u001b[38;5;241m.\u001b[39mclear()\n\u001b[1;32m    148\u001b[0m \u001b[38;5;28mself\u001b[39m\u001b[38;5;241m.\u001b[39mwindow\u001b[38;5;241m.\u001b[39mswitch_to()\n\u001b[0;32m--> 149\u001b[0m \u001b[38;5;28;43mself\u001b[39;49m\u001b[38;5;241;43m.\u001b[39;49m\u001b[43mwindow\u001b[49m\u001b[38;5;241;43m.\u001b[39;49m\u001b[43mdispatch_events\u001b[49m\u001b[43m(\u001b[49m\u001b[43m)\u001b[49m\n\u001b[1;32m    151\u001b[0m \u001b[38;5;28mself\u001b[39m\u001b[38;5;241m.\u001b[39mtransform\u001b[38;5;241m.\u001b[39menable()\n\u001b[1;32m    153\u001b[0m text_lines \u001b[38;5;241m=\u001b[39m []\n",
      "File \u001b[0;32m~/miniconda3/envs/ReinforcementEnv/lib/python3.11/site-packages/pyglet/window/xlib/__init__.py:939\u001b[0m, in \u001b[0;36mXlibWindow.dispatch_events\u001b[0;34m(self)\u001b[0m\n\u001b[1;32m    936\u001b[0m _view \u001b[38;5;241m=\u001b[39m \u001b[38;5;28mself\u001b[39m\u001b[38;5;241m.\u001b[39m_view\n\u001b[1;32m    938\u001b[0m \u001b[38;5;66;03m# Check for the events specific to this window\u001b[39;00m\n\u001b[0;32m--> 939\u001b[0m \u001b[38;5;28;01mwhile\u001b[39;00m \u001b[43mxlib\u001b[49m\u001b[38;5;241;43m.\u001b[39;49m\u001b[43mXCheckWindowEvent\u001b[49m\u001b[43m(\u001b[49m\u001b[43m_x_display\u001b[49m\u001b[43m,\u001b[49m\u001b[43m \u001b[49m\u001b[43m_window\u001b[49m\u001b[43m,\u001b[49m\u001b[43m \u001b[49m\u001b[38;5;241;43m0x1ffffff\u001b[39;49m\u001b[43m,\u001b[49m\u001b[43m \u001b[49m\u001b[43mbyref\u001b[49m\u001b[43m(\u001b[49m\u001b[43me\u001b[49m\u001b[43m)\u001b[49m\u001b[43m)\u001b[49m:\n\u001b[1;32m    940\u001b[0m     \u001b[38;5;66;03m# Key events are filtered by the xlib window event\u001b[39;00m\n\u001b[1;32m    941\u001b[0m     \u001b[38;5;66;03m# handler so they get a shot at the prefiltered event.\u001b[39;00m\n\u001b[1;32m    942\u001b[0m     \u001b[38;5;28;01mif\u001b[39;00m e\u001b[38;5;241m.\u001b[39mxany\u001b[38;5;241m.\u001b[39mtype \u001b[38;5;129;01mnot\u001b[39;00m \u001b[38;5;129;01min\u001b[39;00m (xlib\u001b[38;5;241m.\u001b[39mKeyPress, xlib\u001b[38;5;241m.\u001b[39mKeyRelease):\n\u001b[1;32m    943\u001b[0m         \u001b[38;5;28;01mif\u001b[39;00m xlib\u001b[38;5;241m.\u001b[39mXFilterEvent(e, \u001b[38;5;241m0\u001b[39m):\n",
      "\u001b[0;31mArgumentError\u001b[0m: argument 2: TypeError: wrong type"
     ]
    }
   ],
   "source": [
    "import vmas\n",
    "import random\n",
    "\n",
    "env = vmas.make_env(\n",
    "        scenario=\"waterfall\", # can be scenario name or BaseScenario class\n",
    "        num_envs=1,\n",
    "        device=\"cuda\", # Or \"cuda\" for GPU\n",
    "        continuous_actions=True,\n",
    "        wrapper=None,  # One of: None, \"rllib\", \"gym\", \"gymnasium\", \"gymnasium_vec\"\n",
    "        max_steps=None, # Defines the horizon. None is infinite horizon.\n",
    "        seed=None, # Seed of the environment\n",
    "        dict_spaces=False, # By default tuple spaces are used with each element in the tuple being an agent.\n",
    "        # If dict_spaces=True, the spaces will become Dict with each key being the agent's name\n",
    "        grad_enabled=False, # If grad_enabled the simulator is differentiable and gradients can flow from output to input\n",
    "        terminated_truncated=False, # If terminated_truncated the simulator will return separate `terminated` and `truncated` flags in the `done()`, `step()`, and `get_from_scenario()` functions instead of a single `done` flag\n",
    "    )\n",
    "\n",
    "for _ in range(100):\n",
    "    dict_actions = random.choice([True, False])\n",
    "\n",
    "    actions = {} if dict_actions else []\n",
    "\n",
    "    for agent in env.agents:\n",
    "        action = env.get_random_action(agent)\n",
    "        actions.update({agent.name: action}) if dict_actions else actions.append(action)\n",
    "    \n",
    "    obs, rew, dones, info = env.step(actions)\n",
    "\n",
    "    frame = env.render(\n",
    "                mode=\"rgb_array\",\n",
    "                agent_index_focus=None,  # Can give the camera an agent index to focus on\n",
    "                visualize_when_rgb=True,\n",
    "            )"
   ]
  }
 ],
 "metadata": {
  "kernelspec": {
   "display_name": "ReinforcementEnv",
   "language": "python",
   "name": "python3"
  },
  "language_info": {
   "codemirror_mode": {
    "name": "ipython",
    "version": 3
   },
   "file_extension": ".py",
   "mimetype": "text/x-python",
   "name": "python",
   "nbconvert_exporter": "python",
   "pygments_lexer": "ipython3",
   "version": "3.11.10"
  }
 },
 "nbformat": 4,
 "nbformat_minor": 2
}
