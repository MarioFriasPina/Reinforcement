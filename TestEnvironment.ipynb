{
 "cells": [
  {
   "cell_type": "code",
   "execution_count": 1,
   "metadata": {},
   "outputs": [],
   "source": [
    "def translate_obs(obs, prey, num_obs = 2, num_food = 2, num_water = 2, num_forest = 2, num_preys = 6, num_predators = 2):\n",
    "    dict_obs = {}\n",
    "\n",
    "    dict_obs['vel'] = obs[0:2]\n",
    "    dict_obs['pos'] = obs[2:4]\n",
    "    dict_obs['hunger'] = obs[4]\n",
    "    dict_obs['thirst'] = obs[5]\n",
    "    dict_obs['in_forest'] = obs[6]\n",
    "    dict_obs['consuming'] = obs[7]\n",
    "\n",
    "    \"\"\" if prey:\n",
    "        num_preys -= 1\n",
    "    else:\n",
    "        num_predators -= 1 \"\"\"\n",
    "\n",
    "    curr = 8\n",
    "    for i in range(num_obs):\n",
    "        dict_obs[f'obs_{i}'] = obs[curr:curr+2]\n",
    "        curr += 2\n",
    "    \n",
    "    for i in range(num_food):\n",
    "        dict_obs[f'food_{i}'] = obs[curr:curr+2]\n",
    "        curr += 2\n",
    "\n",
    "    for i in range(num_water):\n",
    "        dict_obs[f'water_{i}'] = obs[curr:curr+2]\n",
    "        curr += 2\n",
    "\n",
    "    for i in range(num_forest):\n",
    "        dict_obs[f'forest_{i}'] = obs[curr:curr+2]\n",
    "        curr += 2\n",
    "\n",
    "    for i in range(num_preys):\n",
    "        dict_obs[f'prey_vel_{i}'] = obs[curr:curr+2]\n",
    "        curr += 2\n",
    "\n",
    "    for i in range(num_preys):\n",
    "        dict_obs[f'prey_pos_{i}'] = obs[curr:curr+2]\n",
    "        curr += 2\n",
    "\n",
    "    for i in range(num_predators):\n",
    "        dict_obs[f'predator_vel_{i}'] = obs[curr:curr+2]\n",
    "        curr += 2\n",
    "    \n",
    "    for i in range(num_predators):\n",
    "        dict_obs[f'predator_pos_{i}'] = obs[curr:curr+2]\n",
    "        curr += 2\n",
    "\n",
    "    return dict_obs"
   ]
  },
  {
   "cell_type": "code",
   "execution_count": 3,
   "metadata": {},
   "outputs": [
    {
     "name": "stdout",
     "output_type": "stream",
     "text": [
      "{'vel': array([0., 0.], dtype=float32), 'pos': array([ 0.7925386, -0.4932949], dtype=float32), 'hunger': np.float32(99.9), 'thirst': np.float32(99.9), 'in_forest': np.float32(0.0), 'consuming': np.float32(0.0), 'obs_0': array([-0.27025568,  0.7584661 ], dtype=float32), 'obs_1': array([-1.0951705,  1.3254411], dtype=float32), 'food_0': array([-0.7120573 , -0.07838641], dtype=float32), 'food_1': array([-1.2337697 ,  0.55332017], dtype=float32), 'water_0': array([-0.08985589,  0.82404417], dtype=float32), 'water_1': array([-0.07808248, -0.3379651 ], dtype=float32), 'forest_0': array([-1.1713483,  0.7361143], dtype=float32), 'forest_1': array([-1.6293708 ,  0.57052886], dtype=float32), 'prey_vel_0': array([0., 0.], dtype=float32), 'prey_vel_1': array([ 0. , -0.3], dtype=float32), 'prey_vel_2': array([ 0.3, -0. ], dtype=float32), 'prey_vel_3': array([-0. ,  0.3], dtype=float32), 'prey_vel_4': array([ 0. , -0.3], dtype=float32), 'prey_vel_5': array([ 0.3, -0. ], dtype=float32), 'prey_pos_0': array([0., 0.], dtype=float32), 'prey_pos_1': array([-0.93828875,  0.5077052 ], dtype=float32), 'prey_pos_2': array([-1.1469197 ,  0.30843136], dtype=float32), 'prey_pos_3': array([-1.135579 ,  0.8700655], dtype=float32), 'prey_pos_4': array([-9.4617176e-01, -7.2653760e-04], dtype=float32), 'prey_pos_5': array([-0.60251296, -0.16441405], dtype=float32), 'predator_vel_0': array([-0.3,  0. ], dtype=float32), 'predator_vel_1': array([-0.3,  0. ], dtype=float32), 'predator_pos_0': array([-1.6134495,  1.4648807], dtype=float32), 'predator_pos_1': array([-0.33094674,  0.98987985], dtype=float32)}\n",
      "{'vel': array([0., 0.], dtype=float32), 'pos': array([ 0.7925386, -0.4932949], dtype=float32), 'hunger': np.float32(99.8), 'thirst': np.float32(99.8), 'in_forest': np.float32(0.0), 'consuming': np.float32(0.0), 'obs_0': array([-0.27025568,  0.7584661 ], dtype=float32), 'obs_1': array([-1.0951705,  1.3254411], dtype=float32), 'food_0': array([-0.7120573 , -0.07838641], dtype=float32), 'food_1': array([-1.2337697 ,  0.55332017], dtype=float32), 'water_0': array([-0.08985589,  0.82404417], dtype=float32), 'water_1': array([-0.07808248, -0.3379651 ], dtype=float32), 'forest_0': array([-1.1713483,  0.7361143], dtype=float32), 'forest_1': array([-1.6293708 ,  0.57052886], dtype=float32), 'prey_vel_0': array([0., 0.], dtype=float32), 'prey_vel_1': array([ 0.3  , -0.225], dtype=float32), 'prey_vel_2': array([ 0.225, -0.3  ], dtype=float32), 'prey_vel_3': array([-0.   ,  0.525], dtype=float32), 'prey_vel_4': array([0.   , 0.075], dtype=float32), 'prey_vel_5': array([0.225, 0.3  ], dtype=float32), 'prey_pos_0': array([0., 0.], dtype=float32), 'prey_pos_1': array([-0.93828875,  0.47770524], dtype=float32), 'prey_pos_2': array([-1.1169198 ,  0.30843136], dtype=float32), 'prey_pos_3': array([-1.135579  ,  0.90006554], dtype=float32), 'prey_pos_4': array([-0.94617176, -0.03072654], dtype=float32), 'prey_pos_5': array([-0.572513  , -0.16441405], dtype=float32), 'predator_vel_0': array([-0.225,  0.   ], dtype=float32), 'predator_vel_1': array([-0.225,  0.3  ], dtype=float32), 'predator_pos_0': array([-1.6434494,  1.4648807], dtype=float32), 'predator_pos_1': array([-0.36094674,  0.98987985], dtype=float32)}\n",
      "{'vel': array([0., 0.], dtype=float32), 'pos': array([ 0.7925386, -0.4932949], dtype=float32), 'hunger': np.float32(99.7), 'thirst': np.float32(99.7), 'in_forest': np.float32(0.0), 'consuming': np.float32(0.0), 'obs_0': array([-0.27025568,  0.7584661 ], dtype=float32), 'obs_1': array([-1.0951705,  1.3254411], dtype=float32), 'food_0': array([-0.7120573 , -0.07838641], dtype=float32), 'food_1': array([-1.2337697 ,  0.55332017], dtype=float32), 'water_0': array([-0.08985589,  0.82404417], dtype=float32), 'water_1': array([-0.07808248, -0.3379651 ], dtype=float32), 'forest_0': array([-1.1713483,  0.7361143], dtype=float32), 'forest_1': array([-1.6293708 ,  0.57052886], dtype=float32), 'prey_vel_0': array([0., 0.], dtype=float32), 'prey_vel_1': array([ 0.225  , -0.16875], dtype=float32), 'prey_vel_2': array([-0.13125, -0.225  ], dtype=float32), 'prey_vel_3': array([-0.3    ,  0.39375], dtype=float32), 'prey_vel_4': array([0.     , 0.05625], dtype=float32), 'prey_vel_5': array([0.46875, 0.225  ], dtype=float32), 'prey_pos_0': array([0., 0.], dtype=float32), 'prey_pos_1': array([-0.9082888 ,  0.45520523], dtype=float32), 'prey_pos_2': array([-1.0944197 ,  0.27843136], dtype=float32), 'prey_pos_3': array([-1.135579  ,  0.95256555], dtype=float32), 'prey_pos_4': array([-0.94617176, -0.02322654], dtype=float32), 'prey_pos_5': array([-0.550013  , -0.13441406], dtype=float32), 'predator_vel_0': array([-0.16875,  0.     ], dtype=float32), 'predator_vel_1': array([0.13125, 0.225  ], dtype=float32), 'predator_pos_0': array([-1.6659495,  1.4648807], dtype=float32), 'predator_pos_1': array([-0.38344675,  1.0198798 ], dtype=float32)}\n",
      "{'vel': array([0., 0.], dtype=float32), 'pos': array([ 0.7925386, -0.4932949], dtype=float32), 'hunger': np.float32(99.6), 'thirst': np.float32(99.6), 'in_forest': np.float32(0.0), 'consuming': np.float32(0.0), 'obs_0': array([-0.27025568,  0.7584661 ], dtype=float32), 'obs_1': array([-1.0951705,  1.3254411], dtype=float32), 'food_0': array([-0.7120573 , -0.07838641], dtype=float32), 'food_1': array([-1.2337697 ,  0.55332017], dtype=float32), 'water_0': array([-0.08985589,  0.82404417], dtype=float32), 'water_1': array([-0.07808248, -0.3379651 ], dtype=float32), 'forest_0': array([-1.1713483,  0.7361143], dtype=float32), 'forest_1': array([-1.6293708 ,  0.57052886], dtype=float32), 'prey_vel_0': array([0., 0.], dtype=float32), 'prey_vel_1': array([ 0.16875  , -0.1265625], dtype=float32), 'prey_vel_2': array([-0.0984375,  0.13125  ], dtype=float32), 'prey_vel_3': array([-0.525    ,  0.2953125], dtype=float32), 'prey_vel_4': array([-0.3      ,  0.0421875], dtype=float32), 'prey_vel_5': array([0.3515625, 0.16875  ], dtype=float32), 'prey_pos_0': array([0., 0.], dtype=float32), 'prey_pos_1': array([-0.88578874,  0.43833023], dtype=float32), 'prey_pos_2': array([-1.1075448 ,  0.25593135], dtype=float32), 'prey_pos_3': array([-1.1655791 ,  0.99194056], dtype=float32), 'prey_pos_4': array([-0.94617176, -0.01760154], dtype=float32), 'prey_pos_5': array([-0.503138  , -0.11191405], dtype=float32), 'predator_vel_0': array([0.1734375, 0.       ], dtype=float32), 'predator_vel_1': array([0.0984375, 0.16875  ], dtype=float32), 'predator_pos_0': array([-1.6828245,  1.4648807], dtype=float32), 'predator_pos_1': array([-0.37032175,  1.0423799 ], dtype=float32)}\n",
      "{'vel': array([0. , 0.3], dtype=float32), 'pos': array([ 0.7925386, -0.4932949], dtype=float32), 'hunger': np.float32(99.5), 'thirst': np.float32(99.5), 'in_forest': np.float32(0.0), 'consuming': np.float32(0.0), 'obs_0': array([-0.27025568,  0.7584661 ], dtype=float32), 'obs_1': array([-1.0951705,  1.3254411], dtype=float32), 'food_0': array([-0.7120573 , -0.07838641], dtype=float32), 'food_1': array([-1.2337697 ,  0.55332017], dtype=float32), 'water_0': array([-0.08985589,  0.82404417], dtype=float32), 'water_1': array([-0.07808248, -0.3379651 ], dtype=float32), 'forest_0': array([-1.1713483,  0.7361143], dtype=float32), 'forest_1': array([-1.6293708 ,  0.57052886], dtype=float32), 'prey_vel_0': array([0. , 0.3], dtype=float32), 'prey_vel_1': array([-0.1734375 , -0.09492187], dtype=float32), 'prey_vel_2': array([-0.07382812,  0.3984375 ], dtype=float32), 'prey_vel_3': array([-0.39375  ,  0.5214844], dtype=float32), 'prey_vel_4': array([-0.525     ,  0.03164063], dtype=float32), 'prey_vel_5': array([ 0.26367188, -0.1734375 ], dtype=float32), 'prey_pos_0': array([0., 0.], dtype=float32), 'prey_pos_1': array([-0.86891377,  0.425674  ], dtype=float32), 'prey_pos_2': array([-1.1173885 ,  0.26905635], dtype=float32), 'prey_pos_3': array([-1.218079 ,  1.0214717], dtype=float32), 'prey_pos_4': array([-0.97617173, -0.01338279], dtype=float32), 'prey_pos_5': array([-0.46798173, -0.09503905], dtype=float32), 'predator_vel_0': array([ 0.13007812, -0.3       ], dtype=float32), 'predator_vel_1': array([0.07382812, 0.1265625 ], dtype=float32), 'predator_pos_0': array([-1.6654807,  1.4648807], dtype=float32), 'predator_pos_1': array([-0.36047798,  1.0592549 ], dtype=float32)}\n"
     ]
    }
   ],
   "source": [
    "from NaturalEnv import natural_env_v0\n",
    "\n",
    "env = natural_env_v0.parallel_env(render_mode=\"human\", max_cycles=5)\n",
    "observations, infos = env.reset()\n",
    "\n",
    "while env.agents:\n",
    "    # this is where you would insert your policy\n",
    "    actions = {agent: env.action_space(agent).sample() for agent in env.agents}\n",
    "\n",
    "    observations, rewards, terminations, truncations, infos = env.step(actions)\n",
    "\n",
    "    #print(observations['prey_0'])\n",
    "\n",
    "    print(translate_obs(observations['prey_0'], True))\n",
    "\n",
    "env.close()"
   ]
  }
 ],
 "metadata": {
  "kernelspec": {
   "display_name": "ReinforcementEnv",
   "language": "python",
   "name": "python3"
  },
  "language_info": {
   "codemirror_mode": {
    "name": "ipython",
    "version": 3
   },
   "file_extension": ".py",
   "mimetype": "text/x-python",
   "name": "python",
   "nbconvert_exporter": "python",
   "pygments_lexer": "ipython3",
   "version": "3.11.10"
  }
 },
 "nbformat": 4,
 "nbformat_minor": 2
}
