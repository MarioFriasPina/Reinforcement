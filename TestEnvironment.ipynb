{
 "cells": [
  {
   "cell_type": "code",
   "execution_count": 1,
   "metadata": {},
   "outputs": [],
   "source": [
    "def translate_obs(obs, prey, num_obs = 2, num_food = 2, num_water = 2, num_forest = 2, num_preys = 6, num_predators = 2):\n",
    "    dict_obs = {}\n",
    "\n",
    "    dict_obs['vel'] = obs[0:2]\n",
    "    dict_obs['pos'] = obs[2:4]\n",
    "    dict_obs['hunger'] = obs[4]\n",
    "    dict_obs['thirst'] = obs[5]\n",
    "    dict_obs['in_forest'] = obs[6]\n",
    "    dict_obs['consuming'] = obs[7]\n",
    "\n",
    "    \"\"\" if prey:\n",
    "        num_preys -= 1\n",
    "    else:\n",
    "        num_predators -= 1 \"\"\"\n",
    "\n",
    "    curr = 8\n",
    "    for i in range(num_obs):\n",
    "        dict_obs[f'obs_{i}'] = obs[curr:curr+2]\n",
    "        curr += 2\n",
    "    \n",
    "    for i in range(num_food):\n",
    "        dict_obs[f'food_{i}'] = obs[curr:curr+2]\n",
    "        curr += 2\n",
    "\n",
    "    for i in range(num_water):\n",
    "        dict_obs[f'water_{i}'] = obs[curr:curr+2]\n",
    "        curr += 2\n",
    "\n",
    "    for i in range(num_forest):\n",
    "        dict_obs[f'forest_{i}'] = obs[curr:curr+2]\n",
    "        curr += 2\n",
    "\n",
    "    for i in range(num_preys):\n",
    "        dict_obs[f'prey_vel_{i}'] = obs[curr:curr+2]\n",
    "        curr += 2\n",
    "\n",
    "    for i in range(num_preys):\n",
    "        dict_obs[f'prey_pos_{i}'] = obs[curr:curr+2]\n",
    "        curr += 2\n",
    "\n",
    "    for i in range(num_predators):\n",
    "        dict_obs[f'predator_vel_{i}'] = obs[curr:curr+2]\n",
    "        curr += 2\n",
    "    \n",
    "    for i in range(num_predators):\n",
    "        dict_obs[f'predator_pos_{i}'] = obs[curr:curr+2]\n",
    "        curr += 2\n",
    "\n",
    "    return dict_obs"
   ]
  },
  {
   "cell_type": "code",
   "execution_count": 1,
   "metadata": {},
   "outputs": [],
   "source": [
    "from NaturalEnv import natural_env_v0\n",
    "\n",
    "env = natural_env_v0.parallel_env(render_mode=False, max_cycles=100, continuous_actions=True)#, num_predators=0, num_prey=1, num_obstacles = 0, num_food=1, num_water=1, num_forests=0)\n",
    "observations, infos = env.reset()\n",
    "\n",
    "while env.agents:\n",
    "    # this is where you would insert your policy\n",
    "    actions = {agent: env.action_space(agent).sample() for agent in env.agents}\n",
    "\n",
    "    observations, rewards, terminations, truncations, infos = env.step(actions)\n",
    "\n",
    "env.close()"
   ]
  }
 ],
 "metadata": {
  "kernelspec": {
   "display_name": "ReinforcementEnv",
   "language": "python",
   "name": "python3"
  },
  "language_info": {
   "codemirror_mode": {
    "name": "ipython",
    "version": 3
   },
   "file_extension": ".py",
   "mimetype": "text/x-python",
   "name": "python",
   "nbconvert_exporter": "python",
   "pygments_lexer": "ipython3",
   "version": "3.11.10"
  }
 },
 "nbformat": 4,
 "nbformat_minor": 2
}
