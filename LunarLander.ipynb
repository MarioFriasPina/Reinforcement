{
 "cells": [
  {
   "cell_type": "markdown",
   "metadata": {},
   "source": [
    "### Create a Neural Network with pytorch for RL"
   ]
  },
  {
   "cell_type": "code",
   "execution_count": 15,
   "metadata": {},
   "outputs": [],
   "source": [
    "import torch\n",
    "import torch.nn as nn\n",
    "import torch.optim as optim\n",
    "import torch.nn.functional as F\n",
    "\n",
    "import numpy as np\n",
    "from collections import deque, namedtuple\n",
    "import random\n",
    "import math\n",
    "from itertools import count\n",
    "\n",
    "import matplotlib\n",
    "import matplotlib.pyplot as plt\n",
    "\n",
    "import gymnasium as gym\n",
    "\n",
    "is_ipython = 'inline' in matplotlib.get_backend()\n",
    "if is_ipython:\n",
    "    from IPython import display\n",
    "\n",
    "plt.ion()\n",
    "\n",
    "device = torch.device(\"cuda\" if torch.cuda.is_available() else \"cpu\")"
   ]
  },
  {
   "cell_type": "code",
   "execution_count": 16,
   "metadata": {},
   "outputs": [],
   "source": [
    "# Basic model that recieves the observation and returns an action\n",
    "layers = nn.Sequential(\n",
    "    nn.Linear(8, 64),\n",
    "    nn.ReLU(),\n",
    "    nn.Linear(64, 64),\n",
    "    nn.ReLU(),\n",
    "    nn.Linear(64, 4),\n",
    "    nn.Softmax(dim=1)\n",
    ")\n",
    "\n",
    "# Create a model for reinforcement learning\n",
    "class DQN(nn.Module):\n",
    "    def __init__(self, model):\n",
    "        super().__init__()\n",
    "        self.model = model\n",
    "\n",
    "    def forward(self, x):\n",
    "        return self.model(x)\n",
    "    \n",
    "Transition = namedtuple('Transition', ('state', 'action', 'reward', 'next_state', 'done'))\n",
    "\n",
    "class ReplayMemory(object):\n",
    "    def __init__(self, capacity):\n",
    "        self.memory = deque([], maxlen=capacity)\n",
    "\n",
    "    def push(self, *args):\n",
    "        self.memory.append(Transition(*args))\n",
    "\n",
    "    def sample(self, batch_size):\n",
    "        return random.sample(self.memory, batch_size)\n",
    "\n",
    "    def __len__(self):\n",
    "        return len(self.memory)\n",
    "\n",
    "policy_net = DQN(layers).to(device)\n",
    "target_net = DQN(layers).to(device)\n",
    "target_net.load_state_dict(policy_net.state_dict())\n",
    "optimizer = optim.Adam(policy_net.parameters(), lr=0.001)\n",
    "\n",
    "memory = ReplayMemory(10000)"
   ]
  },
  {
   "cell_type": "code",
   "execution_count": 17,
   "metadata": {},
   "outputs": [],
   "source": [
    "max_episodes = 10\n",
    "batch_size = 64\n",
    "\n",
    "epsilon = 1.0  # Exploration rate\n",
    "epsilon_min = 0.1  # Minimum exploration rate\n",
    "epsilon_decay = 0.995  # Exploration decay rate\n",
    "\n",
    "lr = 0.001\n",
    "gamma = 0.99\n",
    "\n",
    "steps_done = 0\n",
    "episode_durations = []\n",
    "\n",
    "env = gym.make(\"LunarLander-v3\")"
   ]
  },
  {
   "cell_type": "code",
   "execution_count": 18,
   "metadata": {},
   "outputs": [],
   "source": [
    "def plot_durations(show_result=False):\n",
    "    plt.figure(1)\n",
    "    durations_t = torch.tensor(episode_durations, dtype=torch.float)\n",
    "    if show_result:\n",
    "        plt.title('Result')\n",
    "    else:\n",
    "        plt.clf()\n",
    "        plt.title('Training...')\n",
    "    plt.xlabel('Episode')\n",
    "    plt.ylabel('Duration')\n",
    "    plt.plot(durations_t.numpy())\n",
    "    # Take 100 episode averages and plot them too\n",
    "    if len(durations_t) >= 100:\n",
    "        means = durations_t.unfold(0, 100, 1).mean(1).view(-1)\n",
    "        means = torch.cat((torch.zeros(99), means))\n",
    "        plt.plot(means.numpy())\n",
    "\n",
    "    plt.pause(0.001)  # pause a bit so that plots are updated\n",
    "    if is_ipython:\n",
    "        if not show_result:\n",
    "            display.display(plt.gcf())\n",
    "            display.clear_output(wait=True)\n",
    "        else:\n",
    "            display.display(plt.gcf())"
   ]
  },
  {
   "cell_type": "code",
   "execution_count": 19,
   "metadata": {},
   "outputs": [],
   "source": [
    "def choose_action(observation, action_space):\n",
    "    global steps_done\n",
    "    sample = random.random()\n",
    "    eps_treshold = epsilon_min + (epsilon - epsilon_min) * math.exp(-1. * steps_done / epsilon_decay)\n",
    "    steps_done += 1\n",
    "    if sample > eps_treshold:\n",
    "        with torch.no_grad():\n",
    "            return policy_net(observation).max(1)[1].view(1, 1)\n",
    "    else:\n",
    "        return torch.tensor([[action_space.sample()]], device=device, dtype=torch.long)\n",
    "    \n",
    "def learn():\n",
    "    if len(memory) < batch_size:\n",
    "        return\n",
    "\n",
    "    transitions = memory.sample(batch_size)\n",
    "    batch = Transition(*zip(*transitions))\n",
    "\n",
    "    state_batch = torch.cat(batch.state)\n",
    "    action_batch = torch.cat(batch.action)\n",
    "    reward_batch = torch.cat(batch.reward)\n",
    "    next_state_batch = torch.cat(batch.next_state)\n",
    "    done_batch = torch.cat(batch.done)\n",
    "\n",
    "    state_action_values = policy_net(state_batch).gather(1, action_batch)\n",
    "\n",
    "    next_state_values = target_net(next_state_batch).max(1)[0].detach()\n",
    "\n",
    "    expected_state_action_values = next_state_values * gamma + reward_batch\n",
    "\n",
    "    loss = F.smooth_l1_loss(state_action_values, expected_state_action_values.unsqueeze(1))\n",
    "\n",
    "    optimizer.zero_grad()\n",
    "    loss.backward()\n",
    "    for param in policy_net.parameters():\n",
    "        param.grad.data.clamp_(-1, 1)\n",
    "    optimizer.step()"
   ]
  },
  {
   "cell_type": "markdown",
   "metadata": {},
   "source": [
    "### Run the test environment\n",
    "\n",
    "#### Lunar Lander Environment\n",
    "\n",
    "- Observation Space: 8\n",
    "    1. X position of the lander\n",
    "    2. Y position of the lander\n",
    "    3. X velocity of the lander\n",
    "    4. Y velocity of the lander\n",
    "    5. Angle of the lander\n",
    "    6. Angular velocity of the lander\n",
    "    7. Left Leg Contact (0 or 1)\n",
    "    8. Right Leg Contact (0 or 1)\n",
    "\n",
    "- Action Space: 4\n",
    "    0. Do nothing\n",
    "    1. Fire left Engine\n",
    "    2. Fire main Engine\n",
    "    3. Fire right Engine\n",
    "\n",
    "- Rewards:\n",
    "    - -100 for Collision\n",
    "    - +100 for Landing\n",
    "\n",
    "    - is increased/decreased the closer/further the lander is to the landing pad.\n",
    "    - is increased/decreased the slower/faster the lander is moving.\n",
    "    - is decreased the more the lander is tilted (angle not horizontal).\n",
    "    - is increased by 10 points for each leg that is in contact with the ground.\n",
    "    - is decreased by 0.03 points each frame a side engine is firing.\n",
    "    - is decreased by 0.3 points each frame the main engine is firing.\n",
    "\n"
   ]
  },
  {
   "cell_type": "code",
   "execution_count": 20,
   "metadata": {},
   "outputs": [
    {
     "name": "stdout",
     "output_type": "stream",
     "text": [
      "Episode 10/10, Total Reward: -460.331649098818\r"
     ]
    },
    {
     "data": {
      "image/png": "[encoded data removed]",
      "text/plain": [
       "<Figure size 640x480 with 1 Axes>"
      ]
     },
     "metadata": {},
     "output_type": "display_data"
    },
    {
     "data": {
      "text/plain": [
       "<Figure size 640x480 with 0 Axes>"
      ]
     },
     "metadata": {},
     "output_type": "display_data"
    },
    {
     "data": {
      "text/plain": [
       "<Figure size 640x480 with 0 Axes>"
      ]
     },
     "metadata": {},
     "output_type": "display_data"
    }
   ],
   "source": [
    "for episode in range(max_episodes):\n",
    "    state, info = env.reset()\n",
    "    frame = torch.tensor(state, dtype=torch.float32, device=device).unsqueeze(0)\n",
    "\n",
    "    total_reward = 0\n",
    "    episode_over = False\n",
    "\n",
    "    for t in count():\n",
    "        action = choose_action(frame, env.action_space)\n",
    "        observation, reward, terminated, truncated, info = env.step(action.item())\n",
    "        total_reward += reward\n",
    "\n",
    "        if terminated or truncated:\n",
    "            next_frame = None\n",
    "            episode_over = True\n",
    "        else:\n",
    "            next_frame = torch.tensor(observation, dtype=torch.float32, device=device).unsqueeze(0)\n",
    "\n",
    "            reward = torch.tensor([reward], device=device)\n",
    "            done = torch.tensor([episode_over], device=device)\n",
    "\n",
    "            memory.push(frame, action, reward, next_frame, done)\n",
    "\n",
    "            frame = next_frame\n",
    "            learn()\n",
    "        \n",
    "        target_net_state_dict = target_net.state_dict()\n",
    "        policy_net_state_dict = policy_net.state_dict()\n",
    "        for key in policy_net_state_dict:\n",
    "            target_net_state_dict[key] = policy_net_state_dict[key] * (1 - lr) + target_net_state_dict[key] * lr\n",
    "    \n",
    "        if episode_over:\n",
    "            episode_durations.append(t + 1)\n",
    "            plot_durations()\n",
    "            break\n",
    "    \n",
    "    #if episode % 100 == 0:\n",
    "    print(f'Episode {episode + 1}/{max_episodes}, Total Reward: {total_reward}', end='\\r', flush=True)\n",
    "\n",
    "    epsilon = max(epsilon_min, epsilon * epsilon_decay)\n",
    "\n",
    "plot_durations(show_result=True)\n",
    "plt.ioff()\n",
    "plt.show()"
   ]
  },
  {
   "cell_type": "code",
   "execution_count": 22,
   "metadata": {},
   "outputs": [],
   "source": [
    "env_human = gym.make(\"LunarLander-v3\", render_mode=\"human\")\n",
    "\n",
    "for episode in range(10):\n",
    "    state, info = env_human.reset()\n",
    "    frame = torch.tensor(state, dtype=torch.float32, device=device).unsqueeze(0)\n",
    "\n",
    "    episode_over = False\n",
    "    while not episode_over:\n",
    "        action = choose_action(frame, env_human.action_space)\n",
    "        observation, reward, terminated, truncated, info = env_human.step(action.item())\n",
    "\n",
    "        frame = torch.tensor(observation, dtype=torch.float32, device=device).unsqueeze(0)\n",
    "        if terminated or truncated:\n",
    "            episode_over = True\n",
    "\n",
    "env_human.close()"
   ]
  }
 ],
 "metadata": {
  "kernelspec": {
   "display_name": "gym_env",
   "language": "python",
   "name": "python3"
  },
  "language_info": {
   "codemirror_mode": {
    "name": "ipython",
    "version": 3
   },
   "file_extension": ".py",
   "mimetype": "text/x-python",
   "name": "python",
   "nbconvert_exporter": "python",
   "pygments_lexer": "ipython3",
   "version": "3.12.7"
  }
 },
 "nbformat": 4,
 "nbformat_minor": 2
}
